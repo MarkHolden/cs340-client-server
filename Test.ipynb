{
 "cells": [
  {
   "cell_type": "code",
   "execution_count": 1,
   "metadata": {},
   "outputs": [
    {
     "name": "stdout",
     "output_type": "stream",
     "text": [
      "[{'_id': ObjectId('62f95eee26428ab514839a3b'), 'id': 99, 'animal_type': 'Pterodactyl'}, {'_id': ObjectId('62f95eee26428ab514839a3c'), 'id': 100, 'animal_type': 'Pterodactyl'}, {'_id': ObjectId('62f95eee26428ab514839a3d'), 'id': 101, 'animal_type': 'Pterodactyl'}, {'_id': ObjectId('62f95eee26428ab514839a3e'), 'id': 102, 'animal_type': 'Pterodactyl'}, {'_id': ObjectId('62f95eee26428ab514839a3f'), 'id': 103, 'animal_type': 'Pterodactyl'}]\n",
      "[{'_id': ObjectId('62f95eee26428ab514839a3b'), 'id': 99, 'animal_type': 'Stegosaurus'}]\n",
      "Resource Cleanup for 62f95eee26428ab514839a3c succeeded\n",
      "Resource Cleanup for 62f95eee26428ab514839a3d succeeded\n",
      "Resource Cleanup for 62f95eee26428ab514839a3e succeeded\n",
      "Resource Cleanup for 62f95eee26428ab514839a3f succeeded\n",
      "Resource Cleanup for 62f95eee26428ab514839a40 succeeded\n",
      "Resource Cleanup for 62f95eee26428ab514839a41 succeeded\n",
      "Resource Cleanup for 62f95eee26428ab514839a42 succeeded\n",
      "Resource Cleanup for 62f95eee26428ab514839a43 succeeded\n",
      "Resource Cleanup for 62f95eee26428ab514839a44 succeeded\n",
      "Resource Cleanup for 62f95eee26428ab514839a45 succeeded\n",
      "Resource Cleanup for 62f95eee26428ab514839a46 succeeded\n",
      "Resource Cleanup for 62f95eee26428ab514839a47 succeeded\n",
      "Resource Cleanup for 62f95eee26428ab514839a48 succeeded\n",
      "Resource Cleanup for 62f95eee26428ab514839a49 succeeded\n",
      "Resource Cleanup for 62f95eee26428ab514839a4a succeeded\n",
      "Resource Cleanup for 62f95eee26428ab514839a4b succeeded\n",
      "Resource Cleanup for 62f95eee26428ab514839a4c succeeded\n",
      "Resource Cleanup for 62f95eee26428ab514839a4d succeeded\n",
      "Resource Cleanup for 62f95eee26428ab514839a4e succeeded\n",
      "Resource Cleanup for 62f95eee26428ab514839a3b succeeded\n"
     ]
    }
   ],
   "source": [
    "from AnimalShelterRepository import AnimalShelterRepository\n",
    "from NotFoundException import NotFoundException\n",
    "from ArgumentException import ArgumentException\n",
    "\n",
    "# Create a Python testing script that imports your CRUD Python module to call and test the create and read instances of CRUD functionality.\n",
    "# This script should be created in a separate Jupyter Notebook IPYNB file, and should import and instantiate an object from your CRUD \n",
    "# library to effect changes in MongoDB. After creating your script, execute it in Jupyter Notebook and take screenshots of the commands and their execution.\n",
    "try:\n",
    "    repo = AnimalShelterRepository(\"aacuser\", \"aacuser\")\n",
    "\n",
    "    # Create some Pterodactyls\n",
    "    for i in range(20):\n",
    "        repo.create({ \"id\": 99 + i, \"animal_type\": \"Pterodactyl\" })\n",
    "\n",
    "    # Get the second page of 5\n",
    "    query_result = repo.query({ \"animal_type\": \"Pterodactyl\" }, 2, 5)\n",
    "    print(query_result)\n",
    "\n",
    "    # Get a record by Id\n",
    "    _id = query_result[0]['_id']\n",
    "    record_to_update = repo.get(_id)\n",
    "\n",
    "    # Update a record\n",
    "    record_to_update.update({'animal_type': 'Stegosaurus'})\n",
    "    repo.update(_id, record_to_update)\n",
    "    updated_record = repo.get(_id)\n",
    "\n",
    "    query_result = repo.query({ \"animal_type\": \"Stegosaurus\" }, 1, 5)\n",
    "    print(query_result)\n",
    "\n",
    "    # Delete all the test resources\n",
    "    for doc in repo.query({ \"animal_type\": \"Pterodactyl\" }, 1, 100):\n",
    "        print(f\"Resource Cleanup for {doc['_id']}\", \"succeeded\" if  repo.delete(doc['_id']) else \"failed\")\n",
    "    for doc in repo.query({ \"animal_type\": \"Stegosaurus\" }, 1, 100):\n",
    "        print(f\"Resource Cleanup for {doc['_id']}\", \"succeeded\" if  repo.delete(doc['_id']) else \"failed\")\n",
    "\n",
    "except NotFoundException as ex:\n",
    "    print(ex.message)\n",
    "except ArgumentException as ex:\n",
    "    print(ex.message)\n"
   ]
  }
 ],
 "metadata": {
  "kernelspec": {
   "display_name": "Python 3.10.0 64-bit",
   "language": "python",
   "name": "python3"
  },
  "language_info": {
   "codemirror_mode": {
    "name": "ipython",
    "version": 3
   },
   "file_extension": ".py",
   "mimetype": "text/x-python",
   "name": "python",
   "nbconvert_exporter": "python",
   "pygments_lexer": "ipython3",
   "version": "3.10.0"
  },
  "orig_nbformat": 4,
  "vscode": {
   "interpreter": {
    "hash": "2955c78eb78ab0a165f82b9ac72ed522275e8737f1ae7dd08d44b9ec65f971c4"
   }
  }
 },
 "nbformat": 4,
 "nbformat_minor": 2
}
